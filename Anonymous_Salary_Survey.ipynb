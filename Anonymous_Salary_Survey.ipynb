{
  "nbformat": 4,
  "nbformat_minor": 0,
  "metadata": {
    "colab": {
      "name": "Anonymous Salary Survey",
      "provenance": [],
      "mount_file_id": "16fzJnHYTTajXt-XLngjJJ9FsPFl0H_RK",
      "authorship_tag": "ABX9TyPDpF7DWW/uwIbCgFbhfx0S",
      "include_colab_link": true
    },
    "kernelspec": {
      "name": "python3",
      "display_name": "Python 3"
    },
    "language_info": {
      "name": "python"
    }
  },
  "cells": [
    {
      "cell_type": "markdown",
      "metadata": {
        "id": "view-in-github",
        "colab_type": "text"
      },
      "source": [
        "<a href=\"https://colab.research.google.com/github/lirui720/Anonymous-Salary-Survey/blob/main/Anonymous_Salary_Survey.ipynb\" target=\"_parent\"><img src=\"https://colab.research.google.com/assets/colab-badge.svg\" alt=\"Open In Colab\"/></a>"
      ]
    },
    {
      "cell_type": "code",
      "execution_count": 1,
      "metadata": {
        "id": "v-VLR-my6cyv"
      },
      "outputs": [],
      "source": [
        "import pandas as pd\n",
        "import numpy as np\n",
        "\n",
        "import matplotlib.pyplot as plt"
      ]
    },
    {
      "cell_type": "code",
      "source": [
        "df = pd.read_excel('/content/drive/MyDrive/Anonymous_Salary_Survey.xlsx')"
      ],
      "metadata": {
        "id": "QYFoLqRP7Ui7"
      },
      "execution_count": null,
      "outputs": []
    },
    {
      "cell_type": "code",
      "source": [
        "df.head()"
      ],
      "metadata": {
        "id": "Ah9wyGWS8Y_x"
      },
      "execution_count": null,
      "outputs": []
    },
    {
      "cell_type": "code",
      "source": [
        "df.duplicated().sum()\n"
      ],
      "metadata": {
        "colab": {
          "base_uri": "https://localhost:8080/"
        },
        "id": "_iiYNFKY8ZNt",
        "outputId": "593468ac-0f14-4c42-c0bb-fffabec78deb"
      },
      "execution_count": null,
      "outputs": [
        {
          "output_type": "execute_result",
          "data": {
            "text/plain": [
              "0"
            ]
          },
          "metadata": {},
          "execution_count": 4
        }
      ]
    },
    {
      "cell_type": "code",
      "source": [
        "df.shape"
      ],
      "metadata": {
        "colab": {
          "base_uri": "https://localhost:8080/"
        },
        "id": "-1baZ2-j8ZHr",
        "outputId": "27653203-7f08-403d-9859-794733baf3a5"
      },
      "execution_count": null,
      "outputs": [
        {
          "output_type": "execute_result",
          "data": {
            "text/plain": [
              "(61850, 21)"
            ]
          },
          "metadata": {},
          "execution_count": 19
        }
      ]
    },
    {
      "cell_type": "code",
      "source": [
        "df.isna().sum()"
      ],
      "metadata": {
        "id": "M-9_imAKM-QC"
      },
      "execution_count": null,
      "outputs": []
    },
    {
      "cell_type": "code",
      "source": [
        "df=df.dropna(axis=1,how='all',inplace=False)"
      ],
      "metadata": {
        "id": "t0WCInlp8ZKD"
      },
      "execution_count": null,
      "outputs": []
    },
    {
      "cell_type": "code",
      "source": [
        "df=df.dropna(axis=0,how='any',thresh=10,inplace=False)"
      ],
      "metadata": {
        "id": "VCYbYjSR8ZQR"
      },
      "execution_count": null,
      "outputs": []
    },
    {
      "cell_type": "code",
      "source": [
        "df.shape"
      ],
      "metadata": {
        "colab": {
          "base_uri": "https://localhost:8080/"
        },
        "id": "HGqXh9olhmaa",
        "outputId": "d160e458-89d3-45e8-a65d-ad19b28688d0"
      },
      "execution_count": null,
      "outputs": [
        {
          "output_type": "execute_result",
          "data": {
            "text/plain": [
              "(61113, 21)"
            ]
          },
          "metadata": {},
          "execution_count": 21
        }
      ]
    },
    {
      "cell_type": "code",
      "source": [
        "df.isna().sum()\n"
      ],
      "metadata": {
        "id": "R1V_br0MGNfW",
        "colab": {
          "base_uri": "https://localhost:8080/"
        },
        "outputId": "bc3e98fc-baaa-4dce-c66e-04484b6cb31e"
      },
      "execution_count": null,
      "outputs": [
        {
          "output_type": "execute_result",
          "data": {
            "text/plain": [
              "Timestamp                                                                    0\n",
              "Age Range                                                                   43\n",
              "Years of Experience                                                        121\n",
              "Industry                                                                   876\n",
              "Job Title                                                                  800\n",
              "Company Name                                                             25032\n",
              "Highest Level of Education Received                                         71\n",
              "Closest Major City and State (e.g. Santa Clara, CA)                       1919\n",
              "Country                                                                   2620\n",
              "Annual Base Salary (if hourly, please convert to annual)                   143\n",
              "Annual Bonus                                                             19905\n",
              "Annual Average of RSUs                                                   50561\n",
              "Signing Bonus (if none, leave blank)                                     50732\n",
              "Currency (USD, CAD, etc)                                                  3493\n",
              "How many vacation days are you given per year?                            5159\n",
              "How many sick days are you given per year?                               12879\n",
              "How many days per week are you required to work onsite/in the office?     1462\n",
              "Do you openly discuss salary with your colleagues?                        3475\n",
              "How many months Maternity or Paternity does your company offer?          25471\n",
              "Gender (optional)                                                          303\n",
              "Diverse Identity (Optional)                                              51303\n",
              "dtype: int64"
            ]
          },
          "metadata": {},
          "execution_count": 22
        }
      ]
    },
    {
      "cell_type": "code",
      "source": [
        "df.dtypes"
      ],
      "metadata": {
        "colab": {
          "base_uri": "https://localhost:8080/"
        },
        "id": "CKHzgQsYpsPq",
        "outputId": "b82f5cda-7413-45f9-9ef4-7567299fe54b"
      },
      "execution_count": null,
      "outputs": [
        {
          "output_type": "execute_result",
          "data": {
            "text/plain": [
              "Timestamp                                                                datetime64[ns]\n",
              "Age Range                                                                        object\n",
              "Years of Experience                                                              object\n",
              "Industry                                                                         object\n",
              "Job Title                                                                        object\n",
              "Company Name                                                                     object\n",
              "Highest Level of Education Received                                              object\n",
              "Closest Major City and State (e.g. Santa Clara, CA)                              object\n",
              "Country                                                                          object\n",
              "Annual Base Salary (if hourly, please convert to annual)                         object\n",
              "Annual Bonus                                                                     object\n",
              "Annual Average of RSUs                                                           object\n",
              "Signing Bonus (if none, leave blank)                                             object\n",
              "Currency (USD, CAD, etc)                                                         object\n",
              "How many vacation days are you given per year?                                   object\n",
              "How many sick days are you given per year?                                       object\n",
              "How many days per week are you required to work onsite/in the office?            object\n",
              "Do you openly discuss salary with your colleagues?                               object\n",
              "How many months Maternity or Paternity does your company offer?                  object\n",
              "Gender (optional)                                                                object\n",
              "Diverse Identity (Optional)                                                      object\n",
              "dtype: object"
            ]
          },
          "metadata": {},
          "execution_count": 23
        }
      ]
    }
  ]
}